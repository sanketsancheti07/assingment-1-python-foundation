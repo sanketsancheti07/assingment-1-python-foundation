{
 "cells": [
  {
   "cell_type": "markdown",
   "id": "4c0b46e3",
   "metadata": {},
   "source": [
    "# Q.1 Write all the conventions being followed while declaring a variable.\n"
   ]
  },
  {
   "cell_type": "code",
   "execution_count": 1,
   "id": "fa2bf4e2",
   "metadata": {},
   "outputs": [],
   "source": [
    "#start the variable name with letter or underscore. do not start with digit while declaring variable\n",
    "My_variable = 122\n",
    "_var = 122"
   ]
  },
  {
   "cell_type": "code",
   "execution_count": 3,
   "id": "71ce36de",
   "metadata": {},
   "outputs": [
    {
     "ename": "SyntaxError",
     "evalue": "invalid syntax (565152985.py, line 1)",
     "output_type": "error",
     "traceback": [
      "\u001b[1;36m  Cell \u001b[1;32mIn[3], line 1\u001b[1;36m\u001b[0m\n\u001b[1;33m    `#only use letters, digit and underscore in the variable name. do not use space or other special characters.\u001b[0m\n\u001b[1;37m    ^\u001b[0m\n\u001b[1;31mSyntaxError\u001b[0m\u001b[1;31m:\u001b[0m invalid syntax\n"
     ]
    }
   ],
   "source": [
    "`#only use letters, digit and underscore in the variable name. do not use space or other special characters.\n",
    "A@sr = 12"
   ]
  },
  {
   "cell_type": "code",
   "execution_count": 4,
   "id": "2a819435",
   "metadata": {},
   "outputs": [],
   "source": [
    "#avoid using keywords as variables names\n",
    "int = 12"
   ]
  },
  {
   "cell_type": "markdown",
   "id": "9f0b01e3",
   "metadata": {},
   "source": [
    "# Q.2 What will happen if we declare a restricted keyword as a variable?"
   ]
  },
  {
   "cell_type": "markdown",
   "id": "cab5bcb4",
   "metadata": {},
   "source": [
    "Declaring the restricted keyword as a variable will cause syntax error. this is becuase resticted keywards are reserved keywords."
   ]
  },
  {
   "cell_type": "code",
   "execution_count": 6,
   "id": "2ac4e367",
   "metadata": {},
   "outputs": [
    {
     "ename": "SyntaxError",
     "evalue": "invalid syntax (1759817278.py, line 1)",
     "output_type": "error",
     "traceback": [
      "\u001b[1;36m  Cell \u001b[1;32mIn[6], line 1\u001b[1;36m\u001b[0m\n\u001b[1;33m    def = 12\u001b[0m\n\u001b[1;37m        ^\u001b[0m\n\u001b[1;31mSyntaxError\u001b[0m\u001b[1;31m:\u001b[0m invalid syntax\n"
     ]
    }
   ],
   "source": [
    "def = 12"
   ]
  },
  {
   "cell_type": "markdown",
   "id": "6e786796",
   "metadata": {},
   "source": [
    "# Q3. Can we actually declare a string as a variable name?"
   ]
  },
  {
   "cell_type": "markdown",
   "id": "61c618f5",
   "metadata": {},
   "source": [
    "Yes, it is possible to declaring a string as a variable name but it is not recommended by mentors because it can lead to confusion and errors"
   ]
  },
  {
   "cell_type": "code",
   "execution_count": 7,
   "id": "f1f3ebfd",
   "metadata": {},
   "outputs": [],
   "source": [
    "my_string = \" this is my first assignment\""
   ]
  },
  {
   "cell_type": "code",
   "execution_count": 8,
   "id": "79473d78",
   "metadata": {},
   "outputs": [
    {
     "data": {
      "text/plain": [
       "' this is my first assignment'"
      ]
     },
     "execution_count": 8,
     "metadata": {},
     "output_type": "execute_result"
    }
   ],
   "source": [
    "my_string"
   ]
  },
  {
   "cell_type": "markdown",
   "id": "9934ad94",
   "metadata": {},
   "source": [
    "# Q.4 Is it possible for us to declare “_” as a variable? If so, then write an example of it."
   ]
  },
  {
   "cell_type": "markdown",
   "id": "5dfb6699",
   "metadata": {},
   "source": [
    "Yes, it is possible for us to declare \"_\" as a variable name.below is the example of it."
   ]
  },
  {
   "cell_type": "code",
   "execution_count": 9,
   "id": "c0e5b079",
   "metadata": {},
   "outputs": [],
   "source": [
    "_ = 12"
   ]
  },
  {
   "cell_type": "code",
   "execution_count": 10,
   "id": "dbf35452",
   "metadata": {},
   "outputs": [
    {
     "data": {
      "text/plain": [
       "12"
      ]
     },
     "execution_count": 10,
     "metadata": {},
     "output_type": "execute_result"
    }
   ],
   "source": [
    "_"
   ]
  },
  {
   "cell_type": "markdown",
   "id": "efc71a62",
   "metadata": {},
   "source": [
    "# Q.5 Using an example, explain how the variables in python are dynamic in nature."
   ]
  },
  {
   "cell_type": "code",
   "execution_count": 11,
   "id": "501e277d",
   "metadata": {},
   "outputs": [],
   "source": [
    "number = 123\n",
    "string = \"this my first assignment\""
   ]
  },
  {
   "cell_type": "code",
   "execution_count": 12,
   "id": "2350f0df",
   "metadata": {},
   "outputs": [
    {
     "data": {
      "text/plain": [
       "123"
      ]
     },
     "execution_count": 12,
     "metadata": {},
     "output_type": "execute_result"
    }
   ],
   "source": [
    "number"
   ]
  },
  {
   "cell_type": "code",
   "execution_count": 13,
   "id": "c8891f9e",
   "metadata": {},
   "outputs": [
    {
     "data": {
      "text/plain": [
       "'this my first assignment'"
      ]
     },
     "execution_count": 13,
     "metadata": {},
     "output_type": "execute_result"
    }
   ],
   "source": [
    "string "
   ]
  },
  {
   "cell_type": "code",
   "execution_count": 14,
   "id": "3043f3d2",
   "metadata": {},
   "outputs": [],
   "source": [
    "number = \"this is my first assignment\"\n",
    "string = 123"
   ]
  },
  {
   "cell_type": "code",
   "execution_count": 16,
   "id": "5d3fd71c",
   "metadata": {},
   "outputs": [
    {
     "data": {
      "text/plain": [
       "123"
      ]
     },
     "execution_count": 16,
     "metadata": {},
     "output_type": "execute_result"
    }
   ],
   "source": [
    "string"
   ]
  },
  {
   "cell_type": "code",
   "execution_count": 17,
   "id": "9c7e582b",
   "metadata": {},
   "outputs": [
    {
     "data": {
      "text/plain": [
       "'this is my first assignment'"
      ]
     },
     "execution_count": 17,
     "metadata": {},
     "output_type": "execute_result"
    }
   ],
   "source": [
    "number"
   ]
  },
  {
   "cell_type": "markdown",
   "id": "96162b31",
   "metadata": {},
   "source": [
    "In this above code, the variable 'number' first assign 122 and variable 'string' assign \"this is my first assignment\". then we change the values and printed again so result is shown in the below section. as you can see above the value of the variable can be changed in the runtime this is because variables are dynamic in nature."
   ]
  },
  {
   "cell_type": "code",
   "execution_count": null,
   "id": "83c37ca3",
   "metadata": {},
   "outputs": [],
   "source": []
  }
 ],
 "metadata": {
  "kernelspec": {
   "display_name": "Python 3 (ipykernel)",
   "language": "python",
   "name": "python3"
  },
  "language_info": {
   "codemirror_mode": {
    "name": "ipython",
    "version": 3
   },
   "file_extension": ".py",
   "mimetype": "text/x-python",
   "name": "python",
   "nbconvert_exporter": "python",
   "pygments_lexer": "ipython3",
   "version": "3.9.16"
  }
 },
 "nbformat": 4,
 "nbformat_minor": 5
}
